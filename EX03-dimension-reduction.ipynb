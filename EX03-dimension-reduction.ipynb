{
 "cells": [
  {
   "cell_type": "markdown",
   "metadata": {},
   "source": [
    "# 실습 3 -  파이썬을 이용하여 주성분 분석 실습\n",
    "\n",
    "## 데이터 분석 모듈 적재"
   ]
  },
  {
   "cell_type": "code",
   "execution_count": null,
   "metadata": {},
   "outputs": [],
   "source": [
    "import pandas as pd\n",
    "import matplotlib.pyplot as plt\n",
    "import numpy as np\n",
    "import seaborn as sns"
   ]
  },
  {
   "cell_type": "markdown",
   "metadata": {},
   "source": [
    "## `Cereals` 데이터 읽기\n",
    "\n",
    "- `pd.read_csv()` 함수로 CSV 파일 형식으로 저장된 데이터 읽기\n",
    "  - CSV 파일이 colab 환경에 업로드 후 다음 명령 수행\n",
    "  - 읽어들인 데이터를 사용하려면 변수 cereals에 저장 후 출력\n",
    "  - 파일명의 대소문자를 구분하는 것에 주의"
   ]
  },
  {
   "cell_type": "code",
   "execution_count": null,
   "metadata": {},
   "outputs": [],
   "source": [
    "# 데이터 읽기"
   ]
  },
  {
   "cell_type": "code",
   "execution_count": null,
   "metadata": {},
   "outputs": [],
   "source": [
    "# 데이터 차원 확인"
   ]
  },
  {
   "cell_type": "code",
   "execution_count": null,
   "metadata": {},
   "outputs": [],
   "source": [
    "# 데이터 열 이름 확인\n",
    "cereals.columns"
   ]
  },
  {
   "cell_type": "code",
   "execution_count": null,
   "metadata": {},
   "outputs": [],
   "source": [
    "# 데이터 열 정보 확인\n",
    "cerals.info()"
   ]
  },
  {
   "cell_type": "markdown",
   "metadata": {},
   "source": [
    "## 변수 선택\n",
    "\n",
    "- 수치형 변수만 사용하여 PCA 수행하기로 결정\n",
    "- `cereals`에서 범주형 열인 \"name\", \"mfr\", \"type\" 열을 제거한 데이터를 `cereals_numeric`이라는 변수에 할당한 후 출력\n",
    "  - 열을 제거하는 것은 `drop()` 메소드 이용\n",
    "    - `labels`에 제거할 열 이름의 리스트 제공\n",
    "    - `axis=1`로 설정해야 열이 제거"
   ]
  },
  {
   "cell_type": "code",
   "execution_count": null,
   "metadata": {},
   "outputs": [],
   "source": [
    "# 범주형 열 제외\n",
    "cereals_numeric = cereals.drop(labels=[ ], axis= )\n",
    "cereals_numeric"
   ]
  },
  {
   "cell_type": "markdown",
   "metadata": {},
   "source": [
    "- 행 인덱스 부여: \"name\" 열이 제거되어서 각 행이 어떤 시리얼의 데이터인지 파악이 어려움\n",
    "- `cereals`의 \"name\" 열을 행의 인덱스로 설정"
   ]
  },
  {
   "cell_type": "code",
   "execution_count": null,
   "metadata": {},
   "outputs": [],
   "source": [
    "cereals_numeric.index = cereals[\"name\"] # 행 인덱스로 시리얼 이름 부여\n",
    "cereals_numeric"
   ]
  },
  {
   "cell_type": "markdown",
   "metadata": {},
   "source": [
    "## 수치형 변수 간의 상관성 분석\n",
    "\n",
    "- 수치형 변수 사이의 상관계수 분석\n",
    "  - calories와 sugar는 rating과 강한 음의 상관성 \n",
    "  - calories와 weight의 강한 양의 상관성\n",
    "  - fiber와 potass의 강한 양의 상관성\n"
   ]
  },
  {
   "cell_type": "code",
   "execution_count": null,
   "metadata": {},
   "outputs": [],
   "source": [
    "corr_mat = cereals_numeric.corr()  # 상관계수 구하기\n",
    "corr_mat"
   ]
  },
  {
   "cell_type": "code",
   "execution_count": null,
   "metadata": {},
   "outputs": [],
   "source": [
    "# 상관계수 히트맵 그리기\n",
    "sns.heatmap(corr_mat, cmap=\"RdBu\", vmin=-1, vmax=1)\n",
    "plt.show()"
   ]
  },
  {
   "cell_type": "markdown",
   "metadata": {},
   "source": [
    "## 결측치 확인 \n",
    "\n",
    "- 주성분 분석은 결측치가 있으면 실행 불가\n",
    "- `DataFrame`의 `isna()` 메소드로 결측치가 있는지 확인하여 시각화"
   ]
  },
  {
   "cell_type": "code",
   "execution_count": null,
   "metadata": {},
   "outputs": [],
   "source": [
    "# 결측치 확인"
   ]
  },
  {
   "cell_type": "code",
   "execution_count": null,
   "metadata": {},
   "outputs": [],
   "source": [
    "# 열별 결측치 합 구하기 "
   ]
  },
  {
   "cell_type": "code",
   "execution_count": null,
   "metadata": {},
   "outputs": [],
   "source": [
    "# 결측치 시각화\n",
    "sns.heatmap(cereals_numeric.isna(), cmap=\"Greys\")\n",
    "plt.show()"
   ]
  },
  {
   "cell_type": "markdown",
   "metadata": {},
   "source": [
    "## 결측치 처리\n",
    "\n",
    "- 결측치가 특정 행에 집중되어 있으므로 결측 행 제거하기로 함\n",
    "- `DataFrame`의 `dropna()` 메소드를 사용하면 결측치가 있는 행 또는 열 제거 가능 (행은  axis=0, 열은 axis=1) \n",
    "  - 제거된 결과를 변수에 재할당해야 결측치가 제거된 데이터로 주성분 분석 가능\n"
   ]
  },
  {
   "cell_type": "code",
   "execution_count": null,
   "metadata": {},
   "outputs": [],
   "source": [
    "# 결측치 행 제거\n",
    "cereals_numeric = cereals_numeric.dropna(axis= )"
   ]
  },
  {
   "cell_type": "code",
   "execution_count": null,
   "metadata": {},
   "outputs": [],
   "source": [
    "# 열별 결측치 수 확인\n",
    "cereals_numeric.isna().sum() "
   ]
  },
  {
   "cell_type": "markdown",
   "metadata": {},
   "source": [
    "## 주성분 분석하기\n",
    "\n",
    "1. `PCA` 클래스로 PCA 모형 인스턴스 만들어 `pca`라는 변수에 할당한다.\n",
    "2. PCA 모형 인스턴스의 `fit()` 메소드로 PCA 모형 데이터에 적합하기\n"
   ]
  },
  {
   "cell_type": "code",
   "execution_count": null,
   "metadata": {},
   "outputs": [],
   "source": [
    "from sklearn.decomposition import \n",
    "\n",
    "# PCA 모형 인스턴스 생성\n",
    "\n",
    "# 모형 적합하기"
   ]
  },
  {
   "cell_type": "markdown",
   "metadata": {},
   "source": [
    "## 주성분 분석 결과 확인하기 \n",
    "\n",
    "\n",
    "- 주성분의 로딩 확인: 주성분의 특징 파악\n",
    "- PCA 인스턴스의 `components_` 속성은 각 주성분의 로딩 벡터"
   ]
  },
  {
   "cell_type": "code",
   "execution_count": null,
   "metadata": {
    "scrolled": true
   },
   "outputs": [],
   "source": [
    "# PCA 로딩 벡터 출력 "
   ]
  },
  {
   "cell_type": "code",
   "execution_count": null,
   "metadata": {
    "scrolled": true
   },
   "outputs": [],
   "source": [
    "# 소수점 셋 째자리로 반올림하여 출력 (반올림하려면 round 메소드 이용)"
   ]
  },
  {
   "cell_type": "code",
   "execution_count": null,
   "metadata": {
    "scrolled": true
   },
   "outputs": [],
   "source": [
    "# 로딩 벡터의 각 요소와 대응되는 변수\n",
    "pca.feature_names_in_"
   ]
  },
  {
   "cell_type": "markdown",
   "metadata": {},
   "source": [
    "- `pd.DataFrame`으로 변환하여 보기좋은 형식으로 변환"
   ]
  },
  {
   "cell_type": "code",
   "execution_count": null,
   "metadata": {},
   "outputs": [],
   "source": [
    "pd.DataFrame(pca.components_, columns=pca.feature_names_in_).round(2) "
   ]
  },
  {
   "cell_type": "markdown",
   "metadata": {},
   "source": [
    "- [질문 Q1] 두 번째 주성분에 가장 강한 영향력을 주는 변수는 무엇인가?\n",
    "\n",
    "```{markdown}\n",
    "Q1: \n",
    "```\n",
    "\n",
    "- 주성분이 설명한 데이터 변동성 파악\n",
    "  - PCA 인스턴스의 `explained_variance_` 속성은 각 주성분이 설명한 분산 \n",
    "  - PCA 인스턴스의 `explained_variance_ratio_` 속성은 각 주성분이 설명한 분산의 비율 "
   ]
  },
  {
   "cell_type": "code",
   "execution_count": null,
   "metadata": {},
   "outputs": [],
   "source": [
    "## 주성분이 설명한 분산의 크기\n",
    "pca.explained_variance_"
   ]
  },
  {
   "cell_type": "code",
   "execution_count": null,
   "metadata": {},
   "outputs": [],
   "source": [
    "## 주성분이 설명한 분산의 비\n",
    "pca.explained_variance_ratio_"
   ]
  },
  {
   "cell_type": "code",
   "execution_count": null,
   "metadata": {},
   "outputs": [],
   "source": [
    "## 주성분이 설명한 누적 분산 비\n",
    "pca.explained_variance_ratio_.cumsum()"
   ]
  },
  {
   "cell_type": "markdown",
   "metadata": {},
   "source": [
    "- 주성분이 설명한 데이터 변동성을 보기 좋은 형태로 변형  "
   ]
  },
  {
   "cell_type": "code",
   "execution_count": null,
   "metadata": {},
   "outputs": [],
   "source": [
    "var_table = pd.DataFrame({\n",
    "  \"variance\": pca.explained_variance_,             # 주성분이 설명한 분산\n",
    "  \"variance_ratio\": pca.explained_variance_ratio_, # 주성분이 설명한 분산 비\n",
    "  \"cum_variance_ratio\": pca.explained_variance_ratio_.cumsum(), # 누적분산 비\n",
    "})\n",
    "var_table.round(3) "
   ]
  },
  {
   "cell_type": "markdown",
   "metadata": {},
   "source": [
    "- [질문 Q2] 데이터의 변동성을 95% 이상 설명하려면 몇 개의 주성분이 필요한가?\n",
    "\n",
    "```{markdown}\n",
    "Q2: \n",
    "```\n",
    "\n",
    "  \n",
    "## 변수를 주성분으로 변환하기\n",
    "\n",
    "- PCA 모형 인스턴스의 `transform()` 메소드를 사용하면 데이터를 주성분으로 변환 가능\n",
    "  - 먼저 `fit()` 메소드가 호출되어 PCA 모형이 적합되어 있어야 한다.\n",
    "  - `transform()` 결과에서 행은 각 사례, 열은 각 주성분\n",
    "  - `transform()` 메소드의 결과를 변수 `Z`에 할당하고 출력하시오.\n"
   ]
  },
  {
   "cell_type": "code",
   "execution_count": null,
   "metadata": {},
   "outputs": [],
   "source": [
    "# 주성분으로 변환하기"
   ]
  },
  {
   "cell_type": "markdown",
   "metadata": {},
   "source": [
    "- 주성분 변환 결과를 보기 좋은 형식으로 바꾸기 \n",
    "  - 원 데이터의 행 인덱스 붙이기"
   ]
  },
  {
   "cell_type": "code",
   "execution_count": null,
   "metadata": {},
   "outputs": [],
   "source": [
    "pd.DataFrame(Z, index=cereals_numeric.index).round(3)"
   ]
  },
  {
   "cell_type": "markdown",
   "metadata": {},
   "source": [
    "## Scikit-Learn 핵심 클래스의 종류 \n",
    "\n",
    "- 추정자(estimators) 클래스: 데이터에서 모형을 추정하는 클래스\n",
    "  - `fit()`: 입력된 데이터에서 모형을 추정하는 메소드\n",
    "  - 매개변수: 추정되는 모형을 조정하는 인수 \n",
    "    - 예: `PCA`의 `n_components` 인수는 주성분의 수 지정. 설정 안 되면 변수 수만큼 주성분 생성\n",
    "  - 추정된 모형에 대한 정보는 `속성명_` 형식으로 제공 \n",
    "    - 예: `PCA`의 `components_`, `explained_variance_ratio_` 속성 등"
   ]
  },
  {
   "cell_type": "code",
   "execution_count": null,
   "metadata": {},
   "outputs": [],
   "source": [
    "pca_simple = PCA(n_components=2) # 두 개의 주성분 설정\n",
    "pca_simple.fit(cereals_numeric)\n",
    "pca_simple.n_components # 주성분 설정 확인"
   ]
  },
  {
   "cell_type": "code",
   "execution_count": null,
   "metadata": {},
   "outputs": [],
   "source": [
    "pca_simple.components_ # 주성분의 로딩 벡터"
   ]
  },
  {
   "cell_type": "code",
   "execution_count": null,
   "metadata": {},
   "outputs": [],
   "source": [
    "pca_simple.explained_variance_ratio_  # 주성분이 설명한 분산 비율"
   ]
  },
  {
   "cell_type": "markdown",
   "metadata": {},
   "source": [
    "- 위의 명령어에서 주성분의 수를 4 개로 바꾸어 주성분 분석해 보시오."
   ]
  },
  {
   "cell_type": "code",
   "execution_count": null,
   "metadata": {},
   "outputs": [],
   "source": [
    "# 주성분을 4 개로 하여 PCA 분석 수행"
   ]
  },
  {
   "cell_type": "markdown",
   "metadata": {},
   "source": [
    "- 변환자(transformers) 클래스: 데이터를 변환하는 클래스\n",
    "  - `transform()`: 입력된 데이터를 변환하는 메소드 \n",
    "  - 대부분의 변환자는 추정자여서 데이터에서 변환 모형을 추정하여 변환 \n",
    "    - 예: `PCA` 인스턴스는 `fit()`으로 주성분의 로딩을 추정한 후, `transform()`으로 변수를 주성분으로 변환 \n",
    "  - `fit_transform()`: 입력 데이터에서 모형을 추정 후, 모형으로 입력 데이터를 변환하는 메소드. 추정자이면서 변환자인 클래스만 제공"
   ]
  },
  {
   "cell_type": "code",
   "execution_count": null,
   "metadata": {},
   "outputs": [],
   "source": [
    "pca_simple = PCA(n_components=2) \n",
    "# PCA 모형 적합 및 변환 \n",
    "Z_simple = pca_simple.fit_transform(cereals_numeric)\n",
    "Z_simple"
   ]
  },
  {
   "cell_type": "markdown",
   "metadata": {},
   "source": [
    "- 주성분으로 변환 결과를 보기 좋은 형식으로 바구기"
   ]
  },
  {
   "cell_type": "code",
   "execution_count": null,
   "metadata": {},
   "outputs": [],
   "source": [
    "pd.DataFrame(Z_simple, index=cereals_numeric.index)"
   ]
  },
  {
   "cell_type": "markdown",
   "metadata": {},
   "source": [
    "- 예측자(predictors) 클래스: 입력변수에서 목표변수를 예측하는 클래스\n",
    "  - `predict()`: 모형을 사용하여 입력변수에서 목표변수를 예측하는 메소드\n",
    "  - `score()`: 입력변수와 목표변수를 입력받아 모형의 성능을 측정하는 메소드\n",
    "  - 대부분의 예측자는 추정자여서 데이터에서 예측 모형을 추정하여 예측\n",
    "  \n",
    "\n",
    "# 정규화하여 주성분 분석하기 \n",
    "\n",
    "## 방법1: 정규화한 후 주성분 분석\n",
    "\n",
    "1. Scikit-Learn의 `StandardScaler` 클래스는 수치형 변수를 정규화한다.\n",
    "  - `fit()` 메소드로 각 변수의 평균과 표준편차 계산\n",
    "  - `transform()` 메소드로 각 변수를 정규화"
   ]
  },
  {
   "cell_type": "code",
   "execution_count": null,
   "metadata": {},
   "outputs": [],
   "source": [
    "from sklearn.preprocessing import StandardScaler\n",
    "\n",
    "std_tr = StandardScaler()\n",
    "X = std_tr.fit_transform(cereals_numeric) # 정규화 적합 및 변환\n",
    "X "
   ]
  },
  {
   "cell_type": "markdown",
   "metadata": {},
   "source": [
    "2. 정규화한 후 주성분 분석을 하려면 정규화한 결과를 `PCA`의 입력으로 제공"
   ]
  },
  {
   "cell_type": "code",
   "execution_count": null,
   "metadata": {},
   "outputs": [],
   "source": [
    "Z = pca.fit_transform(X) # 정규화된 데이터로 PCA 적합 및 변환\n",
    "Z"
   ]
  },
  {
   "cell_type": "markdown",
   "metadata": {},
   "source": [
    "## 방법2: 파이프라인으로 연결\n",
    "\n",
    "1. `make_pipeline()` 함수로 순차적으로 수행되는 여러 변환을 하나의 파이프라인으로 구성\n",
    "2. 파이프라인으로 데이터 적합 및 변환: 파이프라인에 속한 변환자가 차례로 데이터를 변환하여 최종 결과 제공"
   ]
  },
  {
   "cell_type": "code",
   "execution_count": null,
   "metadata": {},
   "outputs": [],
   "source": [
    "from sklearn.pipeline import make_pipeline\n",
    "\n",
    "# 파이프라인 생성\n",
    "pca_norm = make_pipeline( , )\n",
    "pca_norm"
   ]
  },
  {
   "cell_type": "code",
   "execution_count": null,
   "metadata": {},
   "outputs": [],
   "source": [
    "# 원 데이터로 한번에 정규화 및 PCA 변환 수행\n",
    "Z = pca_norm.fit_transform(cereals_numeric) "
   ]
  },
  {
   "cell_type": "markdown",
   "metadata": {},
   "source": [
    "- 동일 작업이 필요할 때 파이프라인의 메소드 하나로 수행할 수 있어 작업을 단순화할 수 있고 오류 발생 가능성을 낮출 수 있음\n",
    "\n",
    "- 파이프라인 객체는 리스트나 딕셔너리 형식의 인덱싱 지원"
   ]
  },
  {
   "cell_type": "code",
   "execution_count": null,
   "metadata": {},
   "outputs": [],
   "source": [
    "pca_norm[1]     # 파이프라인 2 번째 요소  \n",
    "pca_norm[\"pca\"] # 파이프라인의 \"pca\" 이름의 요소"
   ]
  },
  {
   "cell_type": "markdown",
   "metadata": {},
   "source": [
    "- PCA 주성분 로딩 확인"
   ]
  },
  {
   "cell_type": "code",
   "execution_count": null,
   "metadata": {},
   "outputs": [],
   "source": [
    "# 주성분의 로딩 벡터 확인"
   ]
  },
  {
   "cell_type": "markdown",
   "metadata": {},
   "source": [
    "- PCA 주성분의 로딩을 보기 좋은 형식으로 출력"
   ]
  },
  {
   "cell_type": "code",
   "execution_count": null,
   "metadata": {},
   "outputs": [],
   "source": [
    "pd.DataFrame(pca_norm[1].components_, \n",
    "  columns=pca_norm.feature_names_in_).round(2) "
   ]
  },
  {
   "cell_type": "markdown",
   "metadata": {},
   "source": [
    "- 주성분이 설명한 데이터 변동성 파악"
   ]
  },
  {
   "cell_type": "code",
   "execution_count": null,
   "metadata": {},
   "outputs": [],
   "source": [
    "# 주성분이 설명한 변동성 확인\n"
   ]
  },
  {
   "cell_type": "markdown",
   "metadata": {},
   "source": [
    "- 보기 좋은 형식으로 출력\n"
   ]
  },
  {
   "cell_type": "code",
   "execution_count": null,
   "metadata": {},
   "outputs": [],
   "source": [
    "var_table = pd.DataFrame({\n",
    "  \"variance\": pca_norm[1].explained_variance_,             # 주성분이 설명한 분산\n",
    "  \"variance_ratio\": pca_norm[1].explained_variance_ratio_, # 주성분이 설명한 분산 비\n",
    "  \"cum_variance_ratio\": pca_norm[1].explained_variance_ratio_.cumsum(), # 누적분산 비\n",
    "})\n",
    "var_table.round(3) "
   ]
  },
  {
   "cell_type": "markdown",
   "metadata": {},
   "source": [
    "## 주성분 분석 결과 시각화하기 \n",
    "\n",
    "- 처음 두 주성분으로 데이터 시각화"
   ]
  },
  {
   "cell_type": "code",
   "execution_count": null,
   "metadata": {},
   "outputs": [],
   "source": [
    "plt.figure(figsize=(8, 6))\n",
    "plt.plot(Z[:, 0], Z[:, 1], \".\")  # 산점도 그리기\n",
    "# 텍스트 표시\n",
    "for name, z in zip(cereals_numeric.index, Z):\n",
    "  plt.text(z[0], z[1]+0.15, name, fontsize=\"x-small\",\n",
    "  horizontalalignment=\"center\")\n",
    "plt.xlabel(\"Z1\")\n",
    "plt.ylabel(\"Z2\")\n",
    "plt.show()"
   ]
  },
  {
   "cell_type": "markdown",
   "metadata": {},
   "source": [
    "- 처음 두 주성분과 원 변수의 관계 시각화\n",
    "  - 원 변수의 로딩을 사용하여 원 변수가 한 단우 증가할 때의 처음 두 주성분의 변화를 화살표로 시각화"
   ]
  },
  {
   "cell_type": "code",
   "execution_count": null,
   "metadata": {},
   "outputs": [],
   "source": [
    "for i, var_name in enumerate(pca_norm.feature_names_in_):\n",
    "  z1 = pca_norm[1].components_[0, i] \n",
    "  z2 = pca_norm[1].components_[1, i] \n",
    "  plt.arrow(0, 0, z1, z2, color=\"r\", head_width=0.03, head_length=0.03)\n",
    "  plt.text(z1 * 1.1, z2 * 1.1, var_name)\n",
    "plt.xlabel(\"Z1\")\n",
    "plt.ylabel(\"Z2\")\n",
    "plt.show()"
   ]
  }
 ],
 "metadata": {
  "kernelspec": {
   "display_name": "Python 3 (ipykernel)",
   "language": "python",
   "name": "python3"
  },
  "language_info": {
   "codemirror_mode": {
    "name": "ipython",
    "version": 3
   },
   "file_extension": ".py",
   "mimetype": "text/x-python",
   "name": "python",
   "nbconvert_exporter": "python",
   "pygments_lexer": "ipython3",
   "version": "3.11.5"
  }
 },
 "nbformat": 4,
 "nbformat_minor": 4
}
