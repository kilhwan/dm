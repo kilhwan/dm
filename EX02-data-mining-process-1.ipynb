{
 "cells": [
  {
   "cell_type": "markdown",
   "metadata": {},
   "source": [
    "# 데이터마아닝 프로세스 실습\n",
    "\n",
    "## 학습 목표\n",
    "\n",
    "1. 파이썬을 이용하여 데이터마이닝의 주요 단계를 따라 간단한 데이터마이닝 모형을 만들어 본다.\n",
    "\n",
    "# 파이썬 리뷰 실습\n",
    "\n",
    "## 파이썬 모듈의 기능을 사용하는 방법\n",
    "\n",
    "1. `import`로 모듈 적재하여 사용하기\n",
    "    - `math` 모듈을 적재하시오.\n",
    "    - `math` 모듈의 `sqrt` 함수를 사용하여 $\\sqrt{7}$을 계산해 보시오."
   ]
  },
  {
   "cell_type": "code",
   "execution_count": null,
   "metadata": {},
   "outputs": [],
   "source": []
  },
  {
   "cell_type": "markdown",
   "metadata": {},
   "source": [
    "2. `from`과 `import`로 모듈에서 특정 함수나 클래스만 적재하여 사용하기\n",
    "  - `math` 모듈에서 `log` 함수만 적재하시오.\n",
    "  - `log` 함수로 $\\log(9)$를 계산해 보시오."
   ]
  },
  {
   "cell_type": "code",
   "execution_count": null,
   "metadata": {},
   "outputs": [],
   "source": []
  },
  {
   "cell_type": "markdown",
   "metadata": {},
   "source": [
    "## 파이썬 데이터 분석 모듈\n",
    "\n",
    "1. 파이썬의 주요 데이터 모듈을 약자로 적재하기\n",
    "- 다음 셀을 실행하시오."
   ]
  },
  {
   "cell_type": "code",
   "execution_count": null,
   "metadata": {},
   "outputs": [],
   "source": [
    "import pandas as pd\n",
    "import numpy as np\n",
    "import matplotlib.pyplot as plt"
   ]
  },
  {
   "cell_type": "markdown",
   "metadata": {},
   "source": [
    "2. `seaborn` 모듈을 `sns`라는 약자료 적재하여 보시오."
   ]
  },
  {
   "cell_type": "code",
   "execution_count": null,
   "metadata": {},
   "outputs": [],
   "source": []
  },
  {
   "cell_type": "markdown",
   "metadata": {},
   "source": [
    "3. `sklearn.linear_model` 모듈에서 `LinearRegression` 클래스만 적재하시오."
   ]
  },
  {
   "cell_type": "code",
   "execution_count": null,
   "metadata": {},
   "outputs": [],
   "source": []
  },
  {
   "cell_type": "markdown",
   "metadata": {},
   "source": [
    "## 파이썬 클래스 \n",
    "\n",
    "1. `pandas`의 `DataFrame` 클래스로 데이터프레임 인스턴스 만들기\n",
    "    - 다음을 실행해 보시오.\n",
    "    - \"John\"이라는 이름의 나이 28, 수입 15.5인 고객 정보에 대한 행을 추가할려면 어떻게 하여야 할까?"
   ]
  },
  {
   "cell_type": "code",
   "execution_count": null,
   "metadata": {},
   "outputs": [],
   "source": [
    "# DataFrame 인스턴스 생성\n",
    "df = pd.DataFrame({\"name\":[\"Tom\",\"Jane\"],\"age\":[25,22],\"income\":[10.0,12.0]})\n",
    "df"
   ]
  },
  {
   "cell_type": "markdown",
   "metadata": {},
   "source": [
    "2. `type` 함수로 자료형 확인하기\n",
    "    - `type` 함수를 사용하여 `df`의 자료형을 출력해 보시오."
   ]
  },
  {
   "cell_type": "code",
   "execution_count": null,
   "metadata": {},
   "outputs": [],
   "source": []
  },
  {
   "cell_type": "markdown",
   "metadata": {},
   "source": [
    "3. 인스턴스 속성 확인하기\n",
    "    - `df`의 `shape` 속성을 출력해 보시오. "
   ]
  },
  {
   "cell_type": "code",
   "execution_count": null,
   "metadata": {},
   "outputs": [],
   "source": []
  },
  {
   "cell_type": "markdown",
   "metadata": {},
   "source": [
    "4. `df`의 `columns` 속성을 출력해 보시오. "
   ]
  },
  {
   "cell_type": "code",
   "execution_count": null,
   "metadata": {},
   "outputs": [],
   "source": []
  },
  {
   "cell_type": "markdown",
   "metadata": {},
   "source": [
    "5. 인스턴스 메소드 이용하기\n",
    "    - `df`의 `info` 메소드를 사용하여 데이터프레임의 각 열에 대한 정보를 출력하시오."
   ]
  },
  {
   "cell_type": "code",
   "execution_count": null,
   "metadata": {},
   "outputs": [],
   "source": []
  },
  {
   "cell_type": "markdown",
   "metadata": {},
   "source": [
    "6. `df`의 `plot` 메소드로 `age`를 x 축으로, `income`을 y 축으로 하는 산점도를 그리시오.\n",
    "    - `plot` 메소드의 `x`와 `y` 인수에 적절한 열 이름을 설정하여 실행해 보시오."
   ]
  },
  {
   "cell_type": "code",
   "execution_count": null,
   "metadata": {},
   "outputs": [],
   "source": [
    "df.plot(kind=\"scatter\", x=\"age\", y=\"income\") \n",
    "plt.show()"
   ]
  },
  {
   "cell_type": "markdown",
   "metadata": {},
   "source": [
    "## 단계 2 - 데이터 획득: 웨스트 록스베리 지역 주택 가격 데이터 \n",
    "\n",
    "1. `WestRoxbury.csv`를 colab에 업로드 하시오.\n",
    "2. `pandas`의 `read_csv()` 함수로 CSV 파일을 읽어서 DataFrame 인스턴스를 생성하기.\n",
    "    - `read_csv()`에 CSV 파일 이름을 문자열로 설정한다."
   ]
  },
  {
   "cell_type": "code",
   "execution_count": null,
   "metadata": {},
   "outputs": [],
   "source": [
    "housing_df = pd.read_csv(\"WestRoxbury.csv\") \n",
    "housing_df"
   ]
  },
  {
   "cell_type": "markdown",
   "metadata": {},
   "source": [
    "3. `housing_df` 데이터프레임의 `shape` 속성을 출력하여 행과 열 수를 확인하시오."
   ]
  },
  {
   "cell_type": "code",
   "execution_count": null,
   "metadata": {},
   "outputs": [],
   "source": []
  },
  {
   "cell_type": "markdown",
   "metadata": {},
   "source": [
    "4. `housing_df`의 `info` 메소드를 이용하여 데이터프레임의 각 열에 대한 정보를 출력하시오."
   ]
  },
  {
   "cell_type": "code",
   "execution_count": null,
   "metadata": {},
   "outputs": [],
   "source": []
  },
  {
   "cell_type": "markdown",
   "metadata": {},
   "source": [
    "## `pandas`의 `DataFrame`의 인덱싱 \n",
    "\n",
    "1. 열 하나 인덱싱: `데이터프레임[\"열 이름\"]`\n",
    "  - `housing_df`에서 `TOTAL_VALUE` 열만 인덱싱"
   ]
  },
  {
   "cell_type": "code",
   "execution_count": null,
   "metadata": {},
   "outputs": [],
   "source": [
    "housing_df[\"TOTAL_VALUE\"]"
   ]
  },
  {
   "cell_type": "markdown",
   "metadata": {},
   "source": [
    "2. 여러 열 인덱싱: `데이터프레임[ [\"열1 이름\", \"열2 이름\", ....] [`\n",
    "  - `housing_df`에서 `TOTAL_VALUE`, `GROSS_AREA`, `REMODEL` 열을 함께 인덱싱 하기."
   ]
  },
  {
   "cell_type": "code",
   "execution_count": null,
   "metadata": {},
   "outputs": [],
   "source": [
    "housing_df[[\"TOTAL_VALUE\", \"GROSS_AREA\", \"REMODEL\"]]"
   ]
  },
  {
   "cell_type": "markdown",
   "metadata": {},
   "source": [
    "## 단계 3 - 데이터 탐색 - 수치형 변수 분포 \n",
    "\n",
    "- 모든 수치형 변수의 통계치 구하기"
   ]
  },
  {
   "cell_type": "code",
   "execution_count": null,
   "metadata": {},
   "outputs": [],
   "source": [
    "housing_df.describe()"
   ]
  },
  {
   "cell_type": "markdown",
   "metadata": {},
   "source": [
    "- 특정 열을 인덱싱한 후 mean, median, std, max, min 메소드를 적용하면 해당 열만 통계량 제공"
   ]
  },
  {
   "cell_type": "code",
   "execution_count": null,
   "metadata": {},
   "outputs": [],
   "source": [
    "# 특정 열에 대한 통계량 구하기\n",
    "housing_df[\"TOTAL_VALUE\"].mean()  "
   ]
  },
  {
   "cell_type": "code",
   "execution_count": null,
   "metadata": {},
   "outputs": [],
   "source": [
    "housing_df[ [\"TOTAL_VALUE\", \"LIVING_AREA\", \"ROOMS\"] ].std()"
   ]
  },
  {
   "cell_type": "markdown",
   "metadata": {},
   "source": [
    "- `hist()` 메소드를 이용하여 특정 열에 대한 히스토그램 그리기\n",
    "    - `column` 인수에 열이름을 설정하면 특정 열에 대한 히스토그램을 그린다.\n",
    "    - `bins`로 구간 수 지정 가능 "
   ]
  },
  {
   "cell_type": "code",
   "execution_count": null,
   "metadata": {},
   "outputs": [],
   "source": [
    "housing_df.hist(column=\"TOTAL_VALUE\")  \n",
    "plt.show()"
   ]
  },
  {
   "cell_type": "markdown",
   "metadata": {},
   "source": [
    "- `hist()` 메소드를 이용하여 모든 수치형 변수에 대해 히스토그램 그리기\n",
    "    - `column` 인수에 열이름을 설정하지 않으면 모든 열에 대한 히스토그램을 그린다.\n",
    "    - `figsize`로 그래프 크기를 인치로 지정 가능: (가로 크기, 세로 크기)"
   ]
  },
  {
   "cell_type": "code",
   "execution_count": null,
   "metadata": {},
   "outputs": [],
   "source": [
    "housing_df.hist()  \n",
    "# housing_df.hist(figsize=(16, 12))  \n",
    "plt.show() "
   ]
  },
  {
   "cell_type": "markdown",
   "metadata": {},
   "source": [
    "- `boxplot()` 메소드를 이용하여 상자 그래프 그리기\n",
    "  - `column` 인수에 상자 그래프를 그릴 열이름을 설정"
   ]
  },
  {
   "cell_type": "code",
   "execution_count": null,
   "metadata": {},
   "outputs": [],
   "source": [
    "housing_df.boxplot(column=\"TOTAL_VALUE\")  \n",
    "plt.show() "
   ]
  },
  {
   "cell_type": "markdown",
   "metadata": {},
   "source": [
    "## 단계 3 - 데이터 탐색 - 범주형 변수 분포 \n",
    "\n",
    "- 범주형 변수 빈도 구하기: 범주형 열을 선택한 후 `value_counts()` 메소드 이용\n",
    "    - `normalize=True`로 설정하면 상대 빈도 계산"
   ]
  },
  {
   "cell_type": "code",
   "execution_count": null,
   "metadata": {},
   "outputs": [],
   "source": [
    "housing_df[\"REMODEL\"].value_counts()   # 절대 빈도 구하기"
   ]
  },
  {
   "cell_type": "code",
   "execution_count": null,
   "metadata": {},
   "outputs": [],
   "source": [
    "housing_df[\"REMODEL\"].value_counts(normalize=True)  # 상대 빈도 구하기"
   ]
  },
  {
   "cell_type": "markdown",
   "metadata": {},
   "source": [
    "- 범주형 변수에 대한 막대 그래프 그리기: `value_counts()`로 빈도표를 구한 후 `plot()` 메소드를 이용. "
   ]
  },
  {
   "cell_type": "code",
   "execution_count": null,
   "metadata": {},
   "outputs": [],
   "source": [
    "# 절대 빈도로 그리기\n",
    "housing_df[\"REMODEL\"].value_counts().plot(kind=\"bar\")  \n",
    "plt.xticks(rotation=0) # x-축 레이블 각도 조정\n",
    "plt.show()"
   ]
  },
  {
   "cell_type": "code",
   "execution_count": null,
   "metadata": {},
   "outputs": [],
   "source": [
    "# 상대 빈도로 그리기\n",
    "housing_df[\"REMODEL\"].value_counts(normalize=True).plot(kind=\"bar\")  \n",
    "plt.show()"
   ]
  },
  {
   "cell_type": "markdown",
   "metadata": {},
   "source": [
    "## 단계 3 - 데이터 탐색 - 결측치 수 확인\n",
    "\n",
    "- 열 별 결측치 수 확인\n",
    "  - `isna()`: 결측치인 곳은 `True`, 나머지는 `False`로 표시하는 메소드\n",
    "  - `sum()`: 열별 합을 구하는 메소드. `True`는 1, `False`는 0으로 하여 계산.  "
   ]
  },
  {
   "cell_type": "code",
   "execution_count": null,
   "metadata": {},
   "outputs": [],
   "source": [
    "housing_df.isna()  # 열별 결측치 정보"
   ]
  },
  {
   "cell_type": "code",
   "execution_count": null,
   "metadata": {},
   "outputs": [],
   "source": [
    "housing_df.isna().sum()  # 열별 결측치 수 확인"
   ]
  },
  {
   "cell_type": "markdown",
   "metadata": {},
   "source": [
    "- 결측치 시각화: 결측치를 검은색으로 표시하여 특정 열, 행에 집중화되어 있는지 확인\n",
    "- 결측치는 `np.nan`으로 표현  "
   ]
  },
  {
   "cell_type": "code",
   "execution_count": null,
   "metadata": {},
   "outputs": [],
   "source": [
    "df = housing_df.copy()  # 데이터프레임 복사본 만들기\n",
    "# 결측치 위치 시각화를 위해 1900년도 이전 집은 모두 결측치로 입력\n",
    "df.loc[df[\"YR_BUILT\"] < 1900, \"YR_BUILT\"] = np.nan\n",
    "sns.heatmap(df.isna(), cmap=\"Greys\")  # 결측치 시각화\n",
    "plt.show()"
   ]
  },
  {
   "cell_type": "markdown",
   "metadata": {},
   "source": [
    "## 단계 3 - 데이터 탐색 - 수치형 변수들의 상관성 분석 \n",
    "\n",
    "- 산점도로 수치형 변수 간의 연관성 파악\n",
    "- `plot()` 메소드를 이용하여 산점도 그리기"
   ]
  },
  {
   "cell_type": "code",
   "execution_count": null,
   "metadata": {},
   "outputs": [],
   "source": [
    "housing_df.plot(kind=\"scatter\", x=\"LIVING_AREA\", y=\"TOTAL_VALUE\")\n",
    "plt.show()"
   ]
  },
  {
   "cell_type": "markdown",
   "metadata": {},
   "source": [
    "- `pd.plotting.scatter_matrix(데이터프레임)` 함수를 사용하면 여러 수치형 변수 간의 산점도와 히스토그램을 동시에 확인 가능"
   ]
  },
  {
   "cell_type": "code",
   "execution_count": null,
   "metadata": {},
   "outputs": [],
   "source": [
    "# 여러 수치형 변수의 산점도 그리기\n",
    "pd.plotting.scatter_matrix(\n",
    "    housing_df[[\"TOTAL_VALUE\", \"LIVING_AREA\", \"ROOMS\", \"YR_BUILT\"]],\n",
    "    figsize=(10, 8))\n",
    "plt.show()"
   ]
  },
  {
   "cell_type": "markdown",
   "metadata": {},
   "source": [
    "## 단계 3 - 데이터 탐색 - 수치형 변수 사이의 상관성 분석 - 상관계수 (1/2)\n",
    "\n",
    "\n",
    "- `corr` 메소드로 두 수치형 변수의 상관계수 구하기\n",
    "    - `numeric_only=True`로 인수를 설정해야 수치형 변수 사이의 상관계수를 구함\n",
    "    - `round` 메소드를 사용하면 소수점 특정 자리에서 반올림 가능"
   ]
  },
  {
   "cell_type": "code",
   "execution_count": null,
   "metadata": {},
   "outputs": [],
   "source": [
    "# 상관계수 구하기\n",
    "corr_mat = housing_df.corr(numeric_only=True)\n",
    "# corr_mat = housing_df.corr(numeric_only=True).round(2)\n",
    "corr_mat"
   ]
  },
  {
   "cell_type": "markdown",
   "metadata": {},
   "source": [
    "- 변수가 많은 경우는 상관계수 히트맵으로 시각화하여 탐색"
   ]
  },
  {
   "cell_type": "code",
   "execution_count": null,
   "metadata": {},
   "outputs": [],
   "source": [
    "# 상관계수 히트맵\n",
    "sns.heatmap(corr_mat, cmap=\"RdBu\", vmin=-1, vmax=1)\n",
    "plt.show()"
   ]
  },
  {
   "cell_type": "markdown",
   "metadata": {},
   "source": [
    "## 단계 3 - 데이터 탐색 - 범주형 변수 사이의 상관성 분석 - 교차표 \n",
    "\n",
    "- 교차표(분할표) 생성: 두 범주형 변수의 발생 빈도를 행과 열로 정리한 표\n",
    "- `pd.crosstab(범주형 변수1, 범주형 변수 2)` 함수로 교차표 생성 "
   ]
  },
  {
   "cell_type": "code",
   "execution_count": null,
   "metadata": {},
   "outputs": [],
   "source": [
    "pd.crosstab(housing_df['REMODEL'], housing_df['FIREPLACE'])"
   ]
  },
  {
   "cell_type": "code",
   "execution_count": null,
   "metadata": {},
   "outputs": [],
   "source": [
    "# 행과 열의 합 추가\n",
    "pd.crosstab(housing_df['REMODEL'], housing_df['FIREPLACE'], margins=True)"
   ]
  },
  {
   "cell_type": "code",
   "execution_count": null,
   "metadata": {},
   "outputs": [],
   "source": [
    "# 상대 빈도로 교차표 만들기: 전체가 1인 경우\n",
    "pd.crosstab(housing_df['REMODEL'], housing_df['FIREPLACE'], normalize=\"all\")"
   ]
  },
  {
   "cell_type": "code",
   "execution_count": null,
   "metadata": {},
   "outputs": [],
   "source": [
    "# 상대 빈도로 교차표 만들기: 전행이 1인 경우\n",
    "pd.crosstab(housing_df['REMODEL'], housing_df['FIREPLACE'], normalize=\"index\")"
   ]
  },
  {
   "cell_type": "code",
   "execution_count": null,
   "metadata": {},
   "outputs": [],
   "source": [
    "# 상대 빈도로 교차표 만들기: 열이 1인 경우\n",
    "pd.crosstab(housing_df['REMODEL'], housing_df['FIREPLACE'], normalize=\"columns\")"
   ]
  },
  {
   "cell_type": "code",
   "execution_count": null,
   "metadata": {},
   "outputs": [],
   "source": [
    "# 백분율로 표현\n",
    "pd.crosstab(housing_df['REMODEL'], housing_df['FIREPLACE'], \n",
    "  normalize=\"columns\").round(3) * 100"
   ]
  },
  {
   "cell_type": "markdown",
   "metadata": {},
   "source": [
    "- 막대 그래프 그리기\n",
    "  - `pd.crosstab()`으로 교차료를 생성한 후 `plot()` 메소드 이용\n",
    "  - 행 인덱스는 x-축으로, 열 인덱스는 색이 다른 막대로 표시"
   ]
  },
  {
   "cell_type": "code",
   "execution_count": null,
   "metadata": {},
   "outputs": [],
   "source": [
    "pd.crosstab(housing_df['REMODEL'], housing_df['FIREPLACE']).plot(kind=\"bar\")\n",
    "plt.xticks(rotation=0)\n",
    "plt.show()"
   ]
  },
  {
   "cell_type": "markdown",
   "metadata": {},
   "source": [
    "## 단계 3 - 데이터 탐색 - 범주형 변수와 수치형 변수의 상관성 분석 \n",
    "\n",
    "- 범주형 변수의 범주별로 수치 변수 통계 요약하기\n",
    "  - `groupby(범주형변수)` 메소드로 데이터프레임을 그룹화\n",
    "  - `mean()` 등의 통계함수로 열별 통계 수행 "
   ]
  },
  {
   "cell_type": "code",
   "execution_count": null,
   "metadata": {},
   "outputs": [],
   "source": [
    "# 범주별 평균 구하기\n",
    "housing_df.groupby(\"REMODEL\").mean()[\"TOTAL_VALUE\"] "
   ]
  },
  {
   "cell_type": "markdown",
   "metadata": {},
   "source": [
    "- 범주별로 수치 변수의 분포를 상자 그래프나 히스토그램으로 시각화하기\n",
    "  - `by` 인수에 범주형 변수 이름 설정"
   ]
  },
  {
   "cell_type": "code",
   "execution_count": null,
   "metadata": {},
   "outputs": [],
   "source": [
    "housing_df.boxplot(column=\"TOTAL_VALUE\", by=\"REMODEL\")\n",
    "plt.show()"
   ]
  },
  {
   "cell_type": "code",
   "execution_count": null,
   "metadata": {},
   "outputs": [],
   "source": [
    "housing_df.hist(column=\"TOTAL_VALUE\", by=\"REMODEL\", bins=20, \n",
    "  sharex=True)  # x-축 통일 \n",
    "plt.show()"
   ]
  }
 ],
 "metadata": {
  "kernelspec": {
   "display_name": "Python 3 (ipykernel)",
   "language": "python",
   "name": "python3"
  },
  "language_info": {
   "codemirror_mode": {
    "name": "ipython",
    "version": 3
   },
   "file_extension": ".py",
   "mimetype": "text/x-python",
   "name": "python",
   "nbconvert_exporter": "python",
   "pygments_lexer": "ipython3",
   "version": "3.11.4"
  }
 },
 "nbformat": 4,
 "nbformat_minor": 4
}
